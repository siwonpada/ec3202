{
 "cells": [
  {
   "cell_type": "markdown",
   "id": "4f083424",
   "metadata": {},
   "source": [
    "# Programming Assignment 2\n",
    "## Goals\n",
    "- Understand the Sampling Theorem using image signals.\n",
    "- Implement Sampling & Decimation and Interpolation of discrete-time signals.\n",
    "- Understand the Aliasing and its effects\n",
    "## Problems\n",
    "1. Apply Downsampling to an Image\n",
    "2. Apply Upsampling to the Downsampled Image\n",
    "3. Avoid aliasing with Low-Pass Filter\n",
    "4. Repeat Steps 1 and 2 to the Band-Limited Image"
   ]
  },
  {
   "cell_type": "code",
   "execution_count": null,
   "id": "2d735a1f",
   "metadata": {},
   "outputs": [],
   "source": [
    "# import libraries\n",
    "import cv2 # OpenCV for image processing"
   ]
  },
  {
   "cell_type": "code",
   "execution_count": null,
   "id": "16f2f119",
   "metadata": {},
   "outputs": [],
   "source": [
    "# load the images\n"
   ]
  },
  {
   "cell_type": "markdown",
   "id": "64866fdf",
   "metadata": {},
   "source": [
    "## 1. Apply Downsampling to an Image\n",
    "- Apply impulse-train sampling to an image.\n",
    "- Perform decimation to reduce the image resolution"
   ]
  },
  {
   "cell_type": "code",
   "execution_count": null,
   "id": "aa9c7bd8",
   "metadata": {},
   "outputs": [],
   "source": []
  },
  {
   "cell_type": "markdown",
   "id": "f3e62558",
   "metadata": {},
   "source": [
    "## 2. Apply Upsampling to the Downsampled Image\n",
    "- Reconstruction the image using **nearest-neighbor interpolation**.\n",
    "- Design **bilinear interpolation** using 2D convolution.\n",
    "- Compare the results of two interpolation methods and discuss the result."
   ]
  },
  {
   "cell_type": "markdown",
   "id": "f974a738",
   "metadata": {},
   "source": [
    "## 3. Avoid aliasing with a Low-Pass Filter\n",
    "- Since the original image is typically not band-limited, apply a low-pass filter before downsampling.\n",
    "- This make the image approximately band-limited, reducing aliasing artifacts."
   ]
  },
  {
   "cell_type": "markdown",
   "id": "e2803d64",
   "metadata": {},
   "source": [
    "## 4. Repeat Step 1 and 2 to the Band-Limited Image.\n",
    "- Apply downsampling and interpolation method.\n",
    "- Compare and discuss the result."
   ]
  }
 ],
 "metadata": {
  "kernelspec": {
   "display_name": ".venv (3.13.3)",
   "language": "python",
   "name": "python3"
  },
  "language_info": {
   "name": "python",
   "version": "3.13.3"
  }
 },
 "nbformat": 4,
 "nbformat_minor": 5
}
